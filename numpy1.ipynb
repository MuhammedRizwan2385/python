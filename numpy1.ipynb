{
 "cells": [
  {
   "cell_type": "code",
   "execution_count": 1,
   "id": "d502f4da-6c55-4cb5-a84c-a6ef3c394b82",
   "metadata": {},
   "outputs": [],
   "source": [
    "import numpy as np"
   ]
  },
  {
   "cell_type": "markdown",
   "id": "c1f945e5-b22d-46db-bc27-f334e4acf3d8",
   "metadata": {},
   "source": [
    "Declaring a matrix"
   ]
  },
  {
   "cell_type": "code",
   "execution_count": 4,
   "id": "f65a0a01-e736-40ab-9225-6d5f84bf503b",
   "metadata": {},
   "outputs": [
    {
     "name": "stdout",
     "output_type": "stream",
     "text": [
      "[[1 2]\n",
      " [3 4]]\n"
     ]
    }
   ],
   "source": [
    "m=np.array([[1,2],[3,4]])\n",
    "print(m)"
   ]
  },
  {
   "cell_type": "code",
   "execution_count": 5,
   "id": "45891877-b859-4456-9d56-e9e507263f84",
   "metadata": {},
   "outputs": [
    {
     "data": {
      "text/plain": [
       "numpy.ndarray"
      ]
     },
     "execution_count": 5,
     "metadata": {},
     "output_type": "execute_result"
    }
   ],
   "source": [
    "type(m)   #return the numpy datatype "
   ]
  },
  {
   "cell_type": "code",
   "execution_count": 7,
   "id": "6a5b5269-a49a-4ea5-b4f5-118486d2bed3",
   "metadata": {},
   "outputs": [
    {
     "data": {
      "text/plain": [
       "(2, 2)"
      ]
     },
     "execution_count": 7,
     "metadata": {},
     "output_type": "execute_result"
    }
   ],
   "source": [
    "m.shape    #return the dimension of the matrix"
   ]
  },
  {
   "cell_type": "markdown",
   "id": "3da6a47f-7b4c-4cdf-a045-8f2747e2ec46",
   "metadata": {},
   "source": [
    "Declaring a scalar"
   ]
  },
  {
   "cell_type": "code",
   "execution_count": 9,
   "id": "59ed16e1-7b1c-4ca6-8ad4-108a028541a2",
   "metadata": {},
   "outputs": [
    {
     "data": {
      "text/plain": [
       "5"
      ]
     },
     "execution_count": 9,
     "metadata": {},
     "output_type": "execute_result"
    }
   ],
   "source": [
    "s=5  #we can directly assign scalar like this \n",
    "s"
   ]
  },
  {
   "cell_type": "code",
   "execution_count": 10,
   "id": "f76ee248-22a3-4c11-8988-877a321ab040",
   "metadata": {},
   "outputs": [
    {
     "data": {
      "text/plain": [
       "int"
      ]
     },
     "execution_count": 10,
     "metadata": {},
     "output_type": "execute_result"
    }
   ],
   "source": [
    "type(s)"
   ]
  },
  {
   "cell_type": "code",
   "execution_count": 16,
   "id": "fe6cd3c2-18ec-4cb7-b970-2ce1afad7996",
   "metadata": {},
   "outputs": [
    {
     "data": {
      "text/plain": [
       "5"
      ]
     },
     "execution_count": 16,
     "metadata": {},
     "output_type": "execute_result"
    }
   ],
   "source": [
    "s_array=np.array(5)  #we can also declare scalar as a numpy array\n",
    "s \n"
   ]
  },
  {
   "cell_type": "code",
   "execution_count": 21,
   "id": "c3655bea-4ef2-4fcf-ac27-e9e4ba07e2b3",
   "metadata": {},
   "outputs": [
    {
     "data": {
      "text/plain": [
       "numpy.ndarray"
      ]
     },
     "execution_count": 21,
     "metadata": {},
     "output_type": "execute_result"
    }
   ],
   "source": [
    "type(s_array)"
   ]
  },
  {
   "cell_type": "code",
   "execution_count": 18,
   "id": "daf19805-4060-4b48-843c-6fce94978822",
   "metadata": {},
   "outputs": [
    {
     "data": {
      "text/plain": [
       "()"
      ]
     },
     "execution_count": 18,
     "metadata": {},
     "output_type": "execute_result"
    }
   ],
   "source": [
    "s_array.shape"
   ]
  },
  {
   "cell_type": "markdown",
   "id": "1d832173-964c-482c-a2b7-622cbe0ccbf9",
   "metadata": {},
   "source": [
    "Declaring a vector"
   ]
  },
  {
   "cell_type": "code",
   "execution_count": 23,
   "id": "ee2e3aca-85e7-443e-9fe1-2be11f127e51",
   "metadata": {},
   "outputs": [
    {
     "data": {
      "text/plain": [
       "array([5, 6, 7, 8])"
      ]
     },
     "execution_count": 23,
     "metadata": {},
     "output_type": "execute_result"
    }
   ],
   "source": [
    "v1=np.array([5,6,7,8])   #by default it is a row vector\n",
    "v1\n"
   ]
  },
  {
   "cell_type": "code",
   "execution_count": 24,
   "id": "243b8af1-3b3a-4a7c-a436-662dd784030b",
   "metadata": {},
   "outputs": [
    {
     "data": {
      "text/plain": [
       "numpy.ndarray"
      ]
     },
     "execution_count": 24,
     "metadata": {},
     "output_type": "execute_result"
    }
   ],
   "source": [
    "type(v1)"
   ]
  },
  {
   "cell_type": "code",
   "execution_count": 25,
   "id": "31a466c3-88ef-4893-96ca-1e1356c4cbb3",
   "metadata": {},
   "outputs": [
    {
     "data": {
      "text/plain": [
       "(4,)"
      ]
     },
     "execution_count": 25,
     "metadata": {},
     "output_type": "execute_result"
    }
   ],
   "source": [
    "v1.shape"
   ]
  },
  {
   "cell_type": "markdown",
   "id": "81961036-cd2c-46a4-86bb-5171c59dfa71",
   "metadata": {},
   "source": [
    "Creating a column vector\n"
   ]
  },
  {
   "cell_type": "code",
   "execution_count": 29,
   "id": "9007e169-0a0a-4df1-9bf7-99961819950c",
   "metadata": {},
   "outputs": [
    {
     "data": {
      "text/plain": [
       "array([[5],\n",
       "       [6],\n",
       "       [7],\n",
       "       [8]])"
      ]
     },
     "execution_count": 29,
     "metadata": {},
     "output_type": "execute_result"
    }
   ],
   "source": [
    "v1.reshape(4,1)\n"
   ]
  },
  {
   "cell_type": "markdown",
   "id": "ee94d9c9-b773-4cbd-a875-829a95c0f3b6",
   "metadata": {},
   "source": [
    "Creating Tensors\n",
    "\n",
    "Rank 0 tensors ->scalars\n",
    "Rank 1 tensors -> vectors\n",
    "Rank 2 tensors -> matrix\n",
    "Rank 3 tensors  are the collections of matrices _>k x m x n"
   ]
  },
  {
   "cell_type": "code",
   "execution_count": 30,
   "id": "b7ab68f0-1da8-4d73-b43f-141d7b5bd754",
   "metadata": {},
   "outputs": [],
   "source": [
    "m1=np.array([[1,2,3],[4,5,6]])"
   ]
  },
  {
   "cell_type": "code",
   "execution_count": 31,
   "id": "a77f9cf8-c27e-48a4-ae01-2bed9cc4080b",
   "metadata": {},
   "outputs": [],
   "source": [
    "m2=np.array([[7,8,9],[10,11,12]])"
   ]
  },
  {
   "cell_type": "code",
   "execution_count": 32,
   "id": "72a3e214-0d91-4f3e-860e-fbf6092bf1b3",
   "metadata": {},
   "outputs": [
    {
     "data": {
      "text/plain": [
       "array([[[ 1,  2,  3],\n",
       "        [ 4,  5,  6]],\n",
       "\n",
       "       [[ 7,  8,  9],\n",
       "        [10, 11, 12]]])"
      ]
     },
     "execution_count": 32,
     "metadata": {},
     "output_type": "execute_result"
    }
   ],
   "source": [
    "t=np.array([m1,m2])\n",
    "t"
   ]
  },
  {
   "cell_type": "code",
   "execution_count": 33,
   "id": "3d0b4643-2a36-4f46-95ef-ee542079473c",
   "metadata": {},
   "outputs": [
    {
     "data": {
      "text/plain": [
       "(2, 2, 3)"
      ]
     },
     "execution_count": 33,
     "metadata": {},
     "output_type": "execute_result"
    }
   ],
   "source": [
    "t.shape"
   ]
  },
  {
   "cell_type": "code",
   "execution_count": 36,
   "id": "5a029a77-0f52-4a4d-801f-408a82eec953",
   "metadata": {},
   "outputs": [
    {
     "data": {
      "text/plain": [
       "array([[[ 1,  2,  3],\n",
       "        [ 4,  5,  6]],\n",
       "\n",
       "       [[ 7,  8,  9],\n",
       "        [10, 11, 12]]])"
      ]
     },
     "execution_count": 36,
     "metadata": {},
     "output_type": "execute_result"
    }
   ],
   "source": [
    "t2=np.array([[[1,2,3],[4,5,6]],[[7,8,9],[10,11,12]]])\n",
    "t2"
   ]
  },
  {
   "cell_type": "code",
   "execution_count": 37,
   "id": "f7d81cb0-f1a0-4335-97df-1c0d599f0a45",
   "metadata": {},
   "outputs": [],
   "source": [
    "t3=np.array([[[1,2],[3,4]],[[5,6],[7,8]]])"
   ]
  },
  {
   "cell_type": "code",
   "execution_count": 38,
   "id": "5e50720e-b77e-4d82-8fcb-dfe04a3c7332",
   "metadata": {},
   "outputs": [
    {
     "data": {
      "text/plain": [
       "array([[[1, 2],\n",
       "        [3, 4]],\n",
       "\n",
       "       [[5, 6],\n",
       "        [7, 8]]])"
      ]
     },
     "execution_count": 38,
     "metadata": {},
     "output_type": "execute_result"
    }
   ],
   "source": [
    "t3"
   ]
  },
  {
   "cell_type": "code",
   "execution_count": 39,
   "id": "345887f7-6063-48fe-8a44-1aa68ab45b78",
   "metadata": {},
   "outputs": [
    {
     "data": {
      "text/plain": [
       "(2, 2, 2)"
      ]
     },
     "execution_count": 39,
     "metadata": {},
     "output_type": "execute_result"
    }
   ],
   "source": [
    "t3.shape"
   ]
  },
  {
   "cell_type": "markdown",
   "id": "b59626dc-9b53-4041-b1f8-c785999e8dbe",
   "metadata": {},
   "source": [
    "Adding  and subtracting 2 matrices"
   ]
  },
  {
   "cell_type": "code",
   "execution_count": 40,
   "id": "c81800b6-17b5-4c2b-8502-068d233ffee0",
   "metadata": {},
   "outputs": [],
   "source": [
    "m1=np.array([[1,2,3],[4,5,6]])\n",
    "m2=np.array([[7,8,9],[10,11,12]])"
   ]
  },
  {
   "cell_type": "code",
   "execution_count": 41,
   "id": "f9e08f7f-084c-4aea-bfa1-9a36bf1f9e4a",
   "metadata": {},
   "outputs": [
    {
     "data": {
      "text/plain": [
       "array([[ 8, 10, 12],\n",
       "       [14, 16, 18]])"
      ]
     },
     "execution_count": 41,
     "metadata": {},
     "output_type": "execute_result"
    }
   ],
   "source": [
    "m1+m2\n"
   ]
  },
  {
   "cell_type": "code",
   "execution_count": 43,
   "id": "2bac0f61-efb5-4850-90f1-cd6a7ed1a094",
   "metadata": {},
   "outputs": [
    {
     "data": {
      "text/plain": [
       "array([[6, 6, 6],\n",
       "       [6, 6, 6]])"
      ]
     },
     "execution_count": 43,
     "metadata": {},
     "output_type": "execute_result"
    }
   ],
   "source": [
    "m2-m1"
   ]
  },
  {
   "cell_type": "markdown",
   "id": "277f8f2a-4296-4875-9dd5-ac0988d2f19c",
   "metadata": {},
   "source": [
    "Adding  and subtracting 2 vectors"
   ]
  },
  {
   "cell_type": "code",
   "execution_count": 44,
   "id": "55cde067-9249-4933-837d-9b2052159978",
   "metadata": {},
   "outputs": [],
   "source": [
    "m1=np.array([1,2,3,4,5])\n",
    "m2=np.array([100,50,75,25,10])"
   ]
  },
  {
   "cell_type": "code",
   "execution_count": 45,
   "id": "a7d20d59-14bd-4857-a670-ba0eea68b374",
   "metadata": {},
   "outputs": [
    {
     "data": {
      "text/plain": [
       "array([101,  52,  78,  29,  15])"
      ]
     },
     "execution_count": 45,
     "metadata": {},
     "output_type": "execute_result"
    }
   ],
   "source": [
    "m1+m2"
   ]
  },
  {
   "cell_type": "code",
   "execution_count": 46,
   "id": "eea1ed2c-ffb2-46a9-a0a0-1e1db72cbd18",
   "metadata": {},
   "outputs": [
    {
     "data": {
      "text/plain": [
       "array([-99, -48, -72, -21,  -5])"
      ]
     },
     "execution_count": 46,
     "metadata": {},
     "output_type": "execute_result"
    }
   ],
   "source": [
    "m1-m2"
   ]
  },
  {
   "cell_type": "markdown",
   "id": "4ff71561-b91d-4bb4-8935-c511e5111ca2",
   "metadata": {},
   "source": [
    "inorder to add or substract two matrices or vectors they have to be of same dimension or size.\n",
    "but in python there is an exception with scalars."
   ]
  },
  {
   "cell_type": "code",
   "execution_count": 48,
   "id": "1ebf6155-b6fb-4fb9-8be8-8341407c4710",
   "metadata": {},
   "outputs": [
    {
     "data": {
      "text/plain": [
       "array([[2, 3, 4],\n",
       "       [5, 6, 7]])"
      ]
     },
     "execution_count": 48,
     "metadata": {},
     "output_type": "execute_result"
    }
   ],
   "source": [
    "m1=np.array([[1,2,3],[4,5,6]])\n",
    "m1+1    #here the scalar 1 is added with all elements irrespective of different dimensions."
   ]
  },
  {
   "cell_type": "code",
   "execution_count": 49,
   "id": "8d2093f7-51ae-4bdc-8b23-7488ce0a4054",
   "metadata": {},
   "outputs": [
    {
     "data": {
      "text/plain": [
       "array([2, 3, 4, 5, 6])"
      ]
     },
     "execution_count": 49,
     "metadata": {},
     "output_type": "execute_result"
    }
   ],
   "source": [
    "v1=np.array([1,2,3,4,5])\n",
    "v1+1"
   ]
  },
  {
   "cell_type": "code",
   "execution_count": 50,
   "id": "3cefb95b-0371-41b6-8339-3d292b093e2a",
   "metadata": {},
   "outputs": [
    {
     "data": {
      "text/plain": [
       "array([2, 3, 4, 5, 6])"
      ]
     },
     "execution_count": 50,
     "metadata": {},
     "output_type": "execute_result"
    }
   ],
   "source": [
    "v1+np.array([1])"
   ]
  },
  {
   "cell_type": "code",
   "execution_count": 51,
   "id": "2aecc08f-92ae-4850-a328-796ebf3050de",
   "metadata": {},
   "outputs": [
    {
     "data": {
      "text/plain": [
       "array([[3, 4, 5],\n",
       "       [6, 7, 8]])"
      ]
     },
     "execution_count": 51,
     "metadata": {},
     "output_type": "execute_result"
    }
   ],
   "source": [
    "m1+np.array([2])"
   ]
  },
  {
   "cell_type": "markdown",
   "id": "508cb042-985f-4134-ac69-98026255ed84",
   "metadata": {},
   "source": [
    "Transposing matrices"
   ]
  },
  {
   "cell_type": "code",
   "execution_count": 52,
   "id": "c77aa6bc-52d6-4176-a32d-b7a2fe2459f2",
   "metadata": {},
   "outputs": [
    {
     "name": "stdout",
     "output_type": "stream",
     "text": [
      "[[1 2 3]\n",
      " [4 5 6]]\n",
      "[[1 4]\n",
      " [2 5]\n",
      " [3 6]]\n"
     ]
    }
   ],
   "source": [
    "m1=np.array([[1,2,3],[4,5,6]])\n",
    "print(m1)\n",
    "print(m1.T)"
   ]
  },
  {
   "cell_type": "markdown",
   "id": "78f36db1-d07a-4da8-8f8c-d9dec16593a4",
   "metadata": {},
   "source": [
    "Transposing vectors"
   ]
  },
  {
   "cell_type": "code",
   "execution_count": 54,
   "id": "0fa55723-c301-41b5-a42c-cb9807b1d40f",
   "metadata": {},
   "outputs": [
    {
     "name": "stdout",
     "output_type": "stream",
     "text": [
      "[1 2 3 4 5]\n"
     ]
    }
   ],
   "source": [
    "v1=np.array([1,2,3,4,5])\n",
    "print(v1.T)   #in python they are not actually transposed..."
   ]
  },
  {
   "cell_type": "code",
   "execution_count": 70,
   "id": "e79748a5-81ad-4a55-9bce-45b47317b7c2",
   "metadata": {},
   "outputs": [
    {
     "data": {
      "text/plain": [
       "array([[1],\n",
       "       [2],\n",
       "       [3],\n",
       "       [4],\n",
       "       [5]])"
      ]
     },
     "execution_count": 70,
     "metadata": {},
     "output_type": "execute_result"
    }
   ],
   "source": [
    "v1.reshape(5,1)"
   ]
  },
  {
   "cell_type": "markdown",
   "id": "dfbc7c98-0fef-4d10-bc19-501da8d99658",
   "metadata": {},
   "source": [
    "Dot product of 2 vectors"
   ]
  },
  {
   "cell_type": "code",
   "execution_count": 75,
   "id": "e60a6bd7-7474-4626-a6e5-6de7832b7165",
   "metadata": {},
   "outputs": [
    {
     "data": {
      "text/plain": [
       "np.int64(130)"
      ]
     },
     "execution_count": 75,
     "metadata": {},
     "output_type": "execute_result"
    }
   ],
   "source": [
    "v1=np.array([1,2,3,4,5])\n",
    "v2=np.array([6,7,8,9,10])\n",
    "np.dot(v1,v2)"
   ]
  },
  {
   "cell_type": "markdown",
   "id": "dd52e231-10be-4e78-b206-7ee978743713",
   "metadata": {},
   "source": [
    "dot product of 2 scalar"
   ]
  },
  {
   "cell_type": "code",
   "execution_count": 76,
   "id": "4a421adc-10da-4530-adf8-5332cf502f18",
   "metadata": {},
   "outputs": [
    {
     "data": {
      "text/plain": [
       "np.int64(30)"
      ]
     },
     "execution_count": 76,
     "metadata": {},
     "output_type": "execute_result"
    }
   ],
   "source": [
    "np.dot(5,6)"
   ]
  },
  {
   "cell_type": "markdown",
   "id": "cd32591c-a435-47f8-8412-021e26017eb3",
   "metadata": {},
   "source": [
    "dot product of vector and scalar"
   ]
  },
  {
   "cell_type": "code",
   "execution_count": 78,
   "id": "c853a8b9-0f5c-425a-b92a-ed7b57bea6e0",
   "metadata": {},
   "outputs": [
    {
     "data": {
      "text/plain": [
       "array([ 5, 10, 15, 20, 25])"
      ]
     },
     "execution_count": 78,
     "metadata": {},
     "output_type": "execute_result"
    }
   ],
   "source": [
    "v1=np.array([1,2,3,4,5])\n",
    "np.dot(v1,5)"
   ]
  },
  {
   "cell_type": "code",
   "execution_count": 79,
   "id": "28029724-9f6c-45a3-8c55-bdcbebaba701",
   "metadata": {},
   "outputs": [
    {
     "data": {
      "text/plain": [
       "array([ 5, 10, 15, 20, 25])"
      ]
     },
     "execution_count": 79,
     "metadata": {},
     "output_type": "execute_result"
    }
   ],
   "source": [
    "v1*5"
   ]
  },
  {
   "cell_type": "markdown",
   "id": "ca643563-99d1-419b-bad3-3dce0c67025b",
   "metadata": {},
   "source": [
    "Dot product of matrices"
   ]
  },
  {
   "cell_type": "code",
   "execution_count": 80,
   "id": "9fc8c224-c919-4d60-95c6-dcb40202a78c",
   "metadata": {},
   "outputs": [
    {
     "data": {
      "text/plain": [
       "array([[ 5, 10, 15],\n",
       "       [20, 25, 30]])"
      ]
     },
     "execution_count": 80,
     "metadata": {},
     "output_type": "execute_result"
    }
   ],
   "source": [
    "#scalar * matrix\n",
    "m1=np.array([[1,2,3],[4,5,6]])\n",
    "m1*5  #m1 matrix is scaled by 5 units\n"
   ]
  },
  {
   "cell_type": "code",
   "execution_count": 85,
   "id": "e582c104-d2f5-4bbf-a9a9-f1d16f15cf90",
   "metadata": {},
   "outputs": [
    {
     "data": {
      "text/plain": [
       "array([[ 66,  72,  78],\n",
       "       [156, 171, 186]])"
      ]
     },
     "execution_count": 85,
     "metadata": {},
     "output_type": "execute_result"
    }
   ],
   "source": [
    "matrix1=np.array([[1,2,3],[4,5,6]])\n",
    "matrix2=np.array([[7,8,9],[10,11,12],[13,14,15]])\n",
    "np.dot(matrix1,matrix2)"
   ]
  },
  {
   "cell_type": "markdown",
   "id": "1817a026-5b2c-4d92-ba20-0edf32a68a5f",
   "metadata": {},
   "source": [
    "mean\n"
   ]
  },
  {
   "cell_type": "code",
   "execution_count": 87,
   "id": "2bd2b2ae-2984-4605-b6fe-f1dc077d29a3",
   "metadata": {},
   "outputs": [
    {
     "name": "stdout",
     "output_type": "stream",
     "text": [
      "3.5\n"
     ]
    }
   ],
   "source": [
    "m1=np.array([[1,2,3],[4,5,6]])\n",
    "print(np.mean(m1))     #it will return mean of m1\n"
   ]
  },
  {
   "cell_type": "code",
   "execution_count": 88,
   "id": "5b69cb9f-edac-402b-9d57-0b9052c0bcea",
   "metadata": {},
   "outputs": [
    {
     "data": {
      "text/plain": [
       "array([2., 5.])"
      ]
     },
     "execution_count": 88,
     "metadata": {},
     "output_type": "execute_result"
    }
   ],
   "source": [
    "np.mean(m1,axis=1)  #it will give you row mean"
   ]
  },
  {
   "cell_type": "code",
   "execution_count": 89,
   "id": "7ce06aac-76da-4262-a72c-c43e7f5f078e",
   "metadata": {},
   "outputs": [
    {
     "data": {
      "text/plain": [
       "array([2.5, 3.5, 4.5])"
      ]
     },
     "execution_count": 89,
     "metadata": {},
     "output_type": "execute_result"
    }
   ],
   "source": [
    "np.mean(m1,axis=0)  #it will give column mean"
   ]
  },
  {
   "cell_type": "code",
   "execution_count": 91,
   "id": "9cf18eb9-674d-4bfb-bc9b-cf1e93d365f5",
   "metadata": {},
   "outputs": [
    {
     "data": {
      "text/plain": [
       "np.int64(3)"
      ]
     },
     "execution_count": 91,
     "metadata": {},
     "output_type": "execute_result"
    }
   ],
   "source": [
    "np.mean(m1,dtype=np.int64)"
   ]
  },
  {
   "cell_type": "markdown",
   "id": "256289fb-c921-439c-8d9f-e00355b5cd46",
   "metadata": {},
   "source": [
    "ADDITIONAL POINTS"
   ]
  },
  {
   "cell_type": "code",
   "execution_count": 95,
   "id": "f5d9b9ae-164a-40b2-bb4d-5608df0fd2f5",
   "metadata": {},
   "outputs": [
    {
     "name": "stdout",
     "output_type": "stream",
     "text": [
      "21\n",
      "[ 6 15]\n",
      "[5 7 9]\n"
     ]
    }
   ],
   "source": [
    "#to find the sum of elements in an array\n",
    "m1=np.array([[1,2,3],[4,5,6]])\n",
    "print(np.sum(m1))\n",
    "\n",
    "#to find the sum of row elements in an array\n",
    "print(np.sum(m1,axis=1))\n",
    "\n",
    "#to find the sum of column elements in an array\n",
    "\n",
    "print(np.sum(m1,axis=0))"
   ]
  },
  {
   "cell_type": "code",
   "execution_count": 119,
   "id": "f1ad6850-0a91-4c72-b13f-f39ef1c5e74a",
   "metadata": {},
   "outputs": [
    {
     "name": "stdout",
     "output_type": "stream",
     "text": [
      "A [[0. 0.]\n",
      " [0. 0.]]\n",
      "B [[1. 1.]\n",
      " [1. 1.]]\n",
      "C [[1. 0.]\n",
      " [0. 1.]]\n",
      "D [[7 7 7]\n",
      " [7 7 7]]\n",
      "E [[10 10 10]\n",
      " [10 10 10]\n",
      " [10 10 10]]\n",
      "F [0 1 2 3 4 5]\n",
      "G: [[0 1 2]\n",
      " [3 4 5]]\n",
      "H: [[17  4  5]\n",
      " [ 7 19  3]\n",
      " [17  2 16]]\n",
      "Standard deviation of H: 6.649979114420001\n",
      "5.0\n"
     ]
    }
   ],
   "source": [
    "#To create a matrix of order 2 x 2 with full zeros\n",
    "A=np.zeros((2,2))\n",
    "print(\"A\",A)\n",
    "#To create a matrix of order 2 x 2 with full ones\n",
    "B=np.ones((2,2))\n",
    "print(\"B\",B)\n",
    "#To create a 2 x 2 identity matrix\n",
    "C=np.eye(2)\n",
    "print(\"C\",C)\n",
    "#To create a matrix of order 2 x 3 with full 7\n",
    "D=np.full((2,3),7)\n",
    "print(\"D\",D)\n",
    "#To create a matrix of order 3 x 3 with full 10\n",
    "E=np.full((3,3),10)\n",
    "print(\"E\",E)\n",
    "#To create a vector of elements from 0-5\n",
    "F=np.arange(6)\n",
    "print(\"F\",F)\n",
    "#To create a vector of elements from 0-5 and reshaped it to matrix\n",
    "G=np.arange(6).reshape(2,3)\n",
    "print(\"G:\",G)\n",
    "#To create a matrix with random integers\n",
    "H=np.random.randint(0,20,(3,3))\n",
    "print(\"H:\",H)\n",
    "\n",
    "#to find standard deviation of H\n",
    "print(\"Standard deviation of H:\", np.std(H))\n",
    "#To find Sqrt of a number\n",
    "print(np.sqrt(25))\n"
   ]
  },
  {
   "cell_type": "code",
   "execution_count": null,
   "id": "0f1d2111-cb65-4b49-a22f-4da0885a38e4",
   "metadata": {},
   "outputs": [],
   "source": []
  }
 ],
 "metadata": {
  "kernelspec": {
   "display_name": "Python [conda env:base] *",
   "language": "python",
   "name": "conda-base-py"
  },
  "language_info": {
   "codemirror_mode": {
    "name": "ipython",
    "version": 3
   },
   "file_extension": ".py",
   "mimetype": "text/x-python",
   "name": "python",
   "nbconvert_exporter": "python",
   "pygments_lexer": "ipython3",
   "version": "3.12.7"
  }
 },
 "nbformat": 4,
 "nbformat_minor": 5
}

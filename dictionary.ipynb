{
 "cells": [
  {
   "cell_type": "markdown",
   "id": "ceafe45d-3b43-4a8d-a66e-0e4ee7a32cd6",
   "metadata": {},
   "source": [
    "A python dictionary is a datastructure that store value as a key value pair.The value can be of any datatype and can be repeated where as key  can't be repeated and keys are immutable."
   ]
  },
  {
   "cell_type": "code",
   "execution_count": 1,
   "id": "9b9fe06c-eade-4a23-bc0d-574cf1442797",
   "metadata": {},
   "outputs": [
    {
     "data": {
      "text/plain": [
       "{'k1': 'cat', 'k2': 'dog'}"
      ]
     },
     "execution_count": 1,
     "metadata": {},
     "output_type": "execute_result"
    }
   ],
   "source": [
    "dict={'k1':\"cat\",'k2':\"dog\"}\n",
    "dict"
   ]
  },
  {
   "cell_type": "code",
   "execution_count": 2,
   "id": "4f010361-0146-45dc-8181-a5a2e1852077",
   "metadata": {},
   "outputs": [
    {
     "data": {
      "text/plain": [
       "'cat'"
      ]
     },
     "execution_count": 2,
     "metadata": {},
     "output_type": "execute_result"
    }
   ],
   "source": [
    "#we can access the value of an existing key by using subscript operator\n",
    "dict['k1']"
   ]
  },
  {
   "cell_type": "code",
   "execution_count": 3,
   "id": "0f8bd939-46d1-47fc-80e3-4faa74a7a708",
   "metadata": {},
   "outputs": [
    {
     "data": {
      "text/plain": [
       "{'k1': 'cat', 'k2': 'dog', 'k3': 'monkey'}"
      ]
     },
     "execution_count": 3,
     "metadata": {},
     "output_type": "execute_result"
    }
   ],
   "source": [
    "#we can add a new key value pair into the dictionary by using subscript operator[] \n",
    "dict['k3']='monkey'\n",
    "dict"
   ]
  },
  {
   "cell_type": "code",
   "execution_count": 5,
   "id": "14bf40c4-85fb-4a5e-98f9-992325a08777",
   "metadata": {},
   "outputs": [
    {
     "data": {
      "text/plain": [
       "{'k1': 'cat', 'k2': 'dog', 'k3': 'camel'}"
      ]
     },
     "execution_count": 5,
     "metadata": {},
     "output_type": "execute_result"
    }
   ],
   "source": [
    "#we can also replace the value of an existing key by using subscript operator\n",
    "dict['k3']='camel'\n",
    "dict"
   ]
  },
  {
   "cell_type": "markdown",
   "id": "05c93626-9da6-45b4-94bd-8d2f0f259a83",
   "metadata": {},
   "source": [
    "when we are accessing a value of a key by using subscript operator,the python intrepreter will raise error if key is not found.so in that case that is if the existence of a key is uncertain we can check by using get() function.it accept 2 values as argument.A key and a default value.if the key is found it will return the value otherwise it will return default value"
   ]
  },
  {
   "cell_type": "code",
   "execution_count": 6,
   "id": "e4fcf92e-41ca-4244-ba51-9b4300600cad",
   "metadata": {},
   "outputs": [
    {
     "data": {
      "text/plain": [
       "'Key is not found'"
      ]
     },
     "execution_count": 6,
     "metadata": {},
     "output_type": "execute_result"
    }
   ],
   "source": [
    "\n",
    "dict.get('k4',\"Key is not found\")"
   ]
  },
  {
   "cell_type": "markdown",
   "id": "e7f55939-4832-4925-a059-2b99ca3730de",
   "metadata": {},
   "source": [
    "To delete an element from the dictionary we have to delete the key.To delete a key we can use pop() fucntion.it expects 2 arguments,one is a key and second is a default value.if the key is found then it is deleted and its associative value is returned.if the key is not found then default value is printed."
   ]
  },
  {
   "cell_type": "code",
   "execution_count": 9,
   "id": "de1e5a96-3bec-47f9-af80-8951dbb24133",
   "metadata": {},
   "outputs": [
    {
     "data": {
      "text/plain": [
       "'Key is not found'"
      ]
     },
     "execution_count": 9,
     "metadata": {},
     "output_type": "execute_result"
    }
   ],
   "source": [
    "dict.pop('k4',\"Key is not found\")\n"
   ]
  },
  {
   "cell_type": "code",
   "execution_count": 10,
   "id": "8f74f8d8-de9e-48f8-a835-0d9475c1e65c",
   "metadata": {},
   "outputs": [
    {
     "data": {
      "text/plain": [
       "'camel'"
      ]
     },
     "execution_count": 10,
     "metadata": {},
     "output_type": "execute_result"
    }
   ],
   "source": [
    "dict.pop('k3',\"Key is not found\")"
   ]
  },
  {
   "cell_type": "code",
   "execution_count": 14,
   "id": "2cfb768c-eb44-44a0-ba25-2d3f1c9a06dd",
   "metadata": {},
   "outputs": [
    {
     "name": "stdout",
     "output_type": "stream",
     "text": [
      "2\n",
      "['k1', 'k2']\n",
      "['cat', 'dog']\n",
      "[('k1', 'cat'), ('k2', 'dog')]\n"
     ]
    }
   ],
   "source": [
    "print(len(dict))\n",
    "print(list(dict.keys()))   #returns a list of keys\n",
    "print(list(dict.values())) #returns a list of values\n",
    "print(list(dict.items()))  #returns a list of tuples containing keys and values"
   ]
  },
  {
   "cell_type": "code",
   "execution_count": null,
   "id": "df1bff3a-e9cd-47ef-8dd8-f2fb67479ec7",
   "metadata": {},
   "outputs": [],
   "source": []
  }
 ],
 "metadata": {
  "kernelspec": {
   "display_name": "Python [conda env:base] *",
   "language": "python",
   "name": "conda-base-py"
  },
  "language_info": {
   "codemirror_mode": {
    "name": "ipython",
    "version": 3
   },
   "file_extension": ".py",
   "mimetype": "text/x-python",
   "name": "python",
   "nbconvert_exporter": "python",
   "pygments_lexer": "ipython3",
   "version": "3.12.7"
  }
 },
 "nbformat": 4,
 "nbformat_minor": 5
}

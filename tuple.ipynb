{
 "cells": [
  {
   "cell_type": "code",
   "execution_count": 10,
   "id": "9f3dcffd-3029-4eb2-bc80-e73afa1d044f",
   "metadata": {},
   "outputs": [
    {
     "data": {
      "text/plain": [
       "False"
      ]
     },
     "execution_count": 10,
     "metadata": {},
     "output_type": "execute_result"
    }
   ],
   "source": [
    "#order of execution....always...NOT AND OR\n",
    "True and False or not True"
   ]
  },
  {
   "cell_type": "markdown",
   "id": "02fbb54a-b97e-42cf-afab-0b864501260d",
   "metadata": {},
   "source": [
    "TUPLES\n",
    "They are immutable.we can't change tuples..we cannot append or delete elements from a tuples"
   ]
  },
  {
   "cell_type": "code",
   "execution_count": 1,
   "id": "437ca23f-4863-43c1-8c4f-bd9d7dcc3635",
   "metadata": {},
   "outputs": [
    {
     "data": {
      "text/plain": [
       "(40, 41, 42)"
      ]
     },
     "execution_count": 1,
     "metadata": {},
     "output_type": "execute_result"
    }
   ],
   "source": [
    "x=(40,41,42)\n",
    "x"
   ]
  },
  {
   "cell_type": "code",
   "execution_count": 2,
   "id": "ca022db3-9ee0-478b-9b15-ff16af1c9ce0",
   "metadata": {},
   "outputs": [
    {
     "data": {
      "text/plain": [
       "(50, 51, 52)"
      ]
     },
     "execution_count": 2,
     "metadata": {},
     "output_type": "execute_result"
    }
   ],
   "source": [
    "#we can assign multiple value to a single varibale.it is assigned as a tuple.\n",
    "y=50,51,52\n",
    "y"
   ]
  },
  {
   "cell_type": "code",
   "execution_count": 5,
   "id": "007b4c9f-3dd5-4bff-8d88-4c72f71030b0",
   "metadata": {},
   "outputs": [
    {
     "data": {
      "text/plain": [
       "30"
      ]
     },
     "execution_count": 5,
     "metadata": {},
     "output_type": "execute_result"
    }
   ],
   "source": [
    "#tuple assignment\n",
    "a,b,c=10,20,30\n",
    "c"
   ]
  },
  {
   "cell_type": "code",
   "execution_count": 8,
   "id": "a35e7142-0c58-4aec-b9b0-fcf99a25a669",
   "metadata": {},
   "outputs": [
    {
     "name": "stdout",
     "output_type": "stream",
     "text": [
      "40\n",
      "41\n",
      "42\n",
      "51\n"
     ]
    }
   ],
   "source": [
    "#tuple is indexable..\n",
    "print(x[0])\n",
    "print(x[1])\n",
    "print(x[2])\n",
    "print(y[1])"
   ]
  },
  {
   "cell_type": "code",
   "execution_count": 12,
   "id": "0d4d85d5-0a00-499c-b9d7-78d728e8e884",
   "metadata": {},
   "outputs": [
    {
     "name": "stdout",
     "output_type": "stream",
     "text": [
      "[(40, 41, 42)]\n",
      "[(40, 41, 42), (50, 51, 52)]\n"
     ]
    }
   ],
   "source": [
    "#list of tuples\n",
    "list1=[x]\n",
    "print(list1)\n",
    "list2=[x,y]\n",
    "print(list2)"
   ]
  },
  {
   "cell_type": "code",
   "execution_count": 13,
   "id": "8041c449-b073-4f8c-97d0-354bedd31005",
   "metadata": {},
   "outputs": [
    {
     "name": "stdout",
     "output_type": "stream",
     "text": [
      "30\n",
      "17\n"
     ]
    }
   ],
   "source": [
    "(age,year_of_school)=\"30,17\".split(',')\n",
    "print(age)\n",
    "print(year_of_school)"
   ]
  },
  {
   "cell_type": "code",
   "execution_count": 15,
   "id": "c801a8ff-0603-4966-9eeb-a4e954cb7987",
   "metadata": {},
   "outputs": [
    {
     "name": "stdout",
     "output_type": "stream",
     "text": [
      "Area and perimeter:\n"
     ]
    },
    {
     "data": {
      "text/plain": [
       "(25, 20)"
      ]
     },
     "execution_count": 15,
     "metadata": {},
     "output_type": "execute_result"
    }
   ],
   "source": [
    "#we can return value from function as tuple.\n",
    "def square(x):\n",
    "    area=x**2\n",
    "    p=4*x\n",
    "    print(\"Area and perimeter:\")\n",
    "    return area,p  \n",
    "square(5)"
   ]
  },
  {
   "cell_type": "code",
   "execution_count": 22,
   "id": "45c8bbcc-a3ee-4410-a93f-908dccfa749f",
   "metadata": {},
   "outputs": [
    {
     "name": "stdout",
     "output_type": "stream",
     "text": [
      "2\n",
      "0\n",
      "7\n"
     ]
    }
   ],
   "source": [
    "#tuple methods\n",
    "#tuple only support these two methods.\n",
    "tuple1=(10,20,30,40,50,60,70,20)\n",
    "print(tuple1.count(20))\n",
    "print(tuple1.index(10))\n",
    "print(tuple1.index(20,2))\n",
    "#index.(item,start,end)"
   ]
  },
  {
   "cell_type": "code",
   "execution_count": 23,
   "id": "f666a719-fb6a-4f18-ac1c-9b1e35126b09",
   "metadata": {},
   "outputs": [
    {
     "name": "stdout",
     "output_type": "stream",
     "text": [
      "10\n",
      "20\n",
      "30\n"
     ]
    }
   ],
   "source": [
    "#tuple unpacking\n",
    "tuple2=(10,20,30)\n",
    "x,y,z=tuple2\n",
    "print(x)\n",
    "print(y)\n",
    "print(z)"
   ]
  },
  {
   "cell_type": "code",
   "execution_count": null,
   "id": "dd8633a6-cde5-4a74-ad25-1dd9c6c5caf9",
   "metadata": {},
   "outputs": [],
   "source": []
  }
 ],
 "metadata": {
  "kernelspec": {
   "display_name": "Python [conda env:base] *",
   "language": "python",
   "name": "conda-base-py"
  },
  "language_info": {
   "codemirror_mode": {
    "name": "ipython",
    "version": 3
   },
   "file_extension": ".py",
   "mimetype": "text/x-python",
   "name": "python",
   "nbconvert_exporter": "python",
   "pygments_lexer": "ipython3",
   "version": "3.12.7"
  }
 },
 "nbformat": 4,
 "nbformat_minor": 5
}
